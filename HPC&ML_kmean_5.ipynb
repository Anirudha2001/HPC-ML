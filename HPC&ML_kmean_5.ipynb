{
 "cells": [
  {
   "cell_type": "code",
   "execution_count": 1,
   "id": "a26be254",
   "metadata": {},
   "outputs": [],
   "source": [
    "#import packages\n",
    "import numpy as np\n",
    "import matplotlib.pyplot as plt\n",
    "import pandas as pd"
   ]
  },
  {
   "cell_type": "code",
   "execution_count": 2,
   "id": "23988206",
   "metadata": {},
   "outputs": [
    {
     "name": "stdout",
     "output_type": "stream",
     "text": [
      "[[0.1  0.6 ]\n",
      " [0.15 0.71]\n",
      " [0.08 0.9 ]\n",
      " [0.16 0.85]\n",
      " [0.2  0.3 ]\n",
      " [0.25 0.5 ]\n",
      " [0.24 0.1 ]\n",
      " [0.3  0.2 ]]\n"
     ]
    }
   ],
   "source": [
    "#create dataset using DataFrame\n",
    "df=pd.DataFrame({'X':[0.1,0.15,0.08,0.16,0.2,0.25,0.24,0.3],\n",
    "                 'y':[0.6,0.71,0.9,0.85,0.3,0.5,0.1,0.2]})\n",
    "f1 = df['X'].values\n",
    "f2 = df['y'].values\n",
    "X = np.array(list(zip(f1, f2)))\n",
    "print(X)"
   ]
  },
  {
   "cell_type": "code",
   "execution_count": 3,
   "id": "d2221f24",
   "metadata": {},
   "outputs": [],
   "source": [
    "#centroid points\n",
    "C_x=np.array([0.1,0.3])\n",
    "C_y=np.array([0.6,0.2])\n",
    "centroids=C_x,C_y"
   ]
  },
  {
   "cell_type": "code",
   "execution_count": 4,
   "id": "58362610",
   "metadata": {},
   "outputs": [
    {
     "data": {
      "image/png": "[encoded data removed]",
      "text/plain": [
       "<Figure size 432x288 with 1 Axes>"
      ]
     },
     "metadata": {
      "needs_background": "light"
     },
     "output_type": "display_data"
    }
   ],
   "source": [
    "#plot the given points\n",
    "colmap = {1: 'r', 2: 'b'}\n",
    "plt.scatter(f1, f2, color='k')\n",
    "plt.show()"
   ]
  },
  {
   "cell_type": "code",
   "execution_count": 5,
   "id": "bd3caafb",
   "metadata": {},
   "outputs": [
    {
     "data": {
      "image/png": "[encoded data removed]",
      "text/plain": [
       "<Figure size 432x288 with 1 Axes>"
      ]
     },
     "metadata": {
      "needs_background": "light"
     },
     "output_type": "display_data"
    },
    {
     "name": "stdout",
     "output_type": "stream",
     "text": [
      "[[0.1 0.3]\n",
      " [0.6 0.2]]\n"
     ]
    }
   ],
   "source": [
    "#for i in centroids():\n",
    "plt.scatter(C_x[0],C_y[0], color=colmap[1])\n",
    "plt.scatter(C_x[1],C_y[1], color=colmap[2])\n",
    "plt.show()\n",
    "\n",
    "C = np.array(list((C_x, C_y)), dtype=np.float32)\n",
    "print (C)"
   ]
  },
  {
   "cell_type": "code",
   "execution_count": 6,
   "id": "8e9fd451",
   "metadata": {},
   "outputs": [
    {
     "name": "stdout",
     "output_type": "stream",
     "text": [
      "point No.6[0.25,0.5] is belongs to blue cluster(cluster no:2)\n"
     ]
    },
    {
     "data": {
      "image/png": "[encoded data removed]",
      "text/plain": [
       "<Figure size 432x288 with 1 Axes>"
      ]
     },
     "metadata": {
      "needs_background": "light"
     },
     "output_type": "display_data"
    }
   ],
   "source": [
    "#plot given elements with centroid elements\n",
    "plt.scatter(f1, f2, c='#050505')\n",
    "print(\"point No.6[0.25,0.5] is belongs to blue cluster(cluster no:2)\")\n",
    "plt.scatter(C_x[0], C_y[0], marker='*', s=200, c='r')\n",
    "plt.scatter(C_x[1], C_y[1], marker='*', s=200, c='b')\n",
    "plt.show()"
   ]
  },
  {
   "cell_type": "code",
   "execution_count": 7,
   "id": "e5fbe9f5",
   "metadata": {},
   "outputs": [
    {
     "name": "stdout",
     "output_type": "stream",
     "text": [
      "[1 1 1 1 0 0 0 0]\n"
     ]
    }
   ],
   "source": [
    "#import KMeans class and create object of it\n",
    "from sklearn.cluster import KMeans\n",
    "model=KMeans(n_clusters=2,random_state=0)\n",
    "model.fit(X)\n",
    "labels=model.labels_\n",
    "print(labels)"
   ]
  },
  {
   "cell_type": "code",
   "execution_count": 8,
   "id": "3b3c73ec",
   "metadata": {},
   "outputs": [
    {
     "name": "stdout",
     "output_type": "stream",
     "text": [
      "No of population around cluster 2: 3\n"
     ]
    }
   ],
   "source": [
    "#using labels find population around centroid\n",
    "count=0\n",
    "for i in range(len(labels)):\n",
    "    if (labels[i]==1):\n",
    "        count=count+1\n",
    "\n",
    "print('No of population around cluster 2:',count-1)"
   ]
  },
  {
   "cell_type": "code",
   "execution_count": 9,
   "id": "ccf2a440",
   "metadata": {},
   "outputs": [
    {
     "name": "stdout",
     "output_type": "stream",
     "text": [
      "Previous value of m1 and m2 is:\n",
      "M1== [0.1 0.3]\n",
      "M1== [0.6 0.2]\n",
      "Updated value of m1 and m2 is:\n",
      "M1== [0.2475 0.275 ]\n",
      "M1== [0.1225 0.765 ]\n"
     ]
    }
   ],
   "source": [
    "#Find new centroids\n",
    "new_centroids = model.cluster_centers_\n",
    "\n",
    "print('Previous value of m1 and m2 is:')\n",
    "print('M1==',centroids[0])\n",
    "print('M1==',centroids[1])\n",
    "\n",
    "print('Updated value of m1 and m2 is:')\n",
    "print('M1==',new_centroids[0])\n",
    "print('M1==',new_centroids[1])\n"
   ]
  },
  {
   "cell_type": "code",
   "execution_count": null,
   "id": "e091ac34",
   "metadata": {},
   "outputs": [],
   "source": []
  }
 ],
 "metadata": {
  "kernelspec": {
   "display_name": "Python 3 (ipykernel)",
   "language": "python",
   "name": "python3"
  },
  "language_info": {
   "codemirror_mode": {
    "name": "ipython",
    "version": 3
   },
   "file_extension": ".py",
   "mimetype": "text/x-python",
   "name": "python",
   "nbconvert_exporter": "python",
   "pygments_lexer": "ipython3",
   "version": "3.9.12"
  }
 },
 "nbformat": 4,
 "nbformat_minor": 5
}
