{
 "cells": [
  {
   "cell_type": "code",
   "execution_count": 1,
   "id": "007b5aa2",
   "metadata": {},
   "outputs": [],
   "source": [
    "#step-5 :Running Actual Program(SLR)\n",
    "import numpy as np\n",
    "import matplotlib.pyplot as plt\n",
    "import pandas as pd"
   ]
  },
  {
   "cell_type": "code",
   "execution_count": 2,
   "id": "11759478",
   "metadata": {},
   "outputs": [],
   "source": [
    "#Load dataset\n",
    "dataset=pd.read_csv(\"F:\\hw.csv\")"
   ]
  },
  {
   "cell_type": "code",
   "execution_count": 3,
   "id": "fd805f38",
   "metadata": {},
   "outputs": [
    {
     "name": "stdout",
     "output_type": "stream",
     "text": [
      "   height  weight\n",
      "0     151      63\n",
      "1     174      81\n",
      "2     138      56\n",
      "3     186      91\n",
      "4     128      47\n",
      "5     136      57\n",
      "6     179      76\n",
      "7     163      72\n",
      "8     152      62\n",
      "9     131      48\n",
      "[[151]\n",
      " [174]\n",
      " [138]\n",
      " [186]\n",
      " [128]\n",
      " [136]\n",
      " [179]\n",
      " [163]\n",
      " [152]\n",
      " [131]]\n",
      "[63 81 56 91 47 57 76 72 62 48]\n"
     ]
    }
   ],
   "source": [
    "# To display dataset\n",
    "print(dataset)\n",
    "x=dataset.iloc[:,:-1].values\n",
    "X=dataset.iloc[:,:-1].values\n",
    "y=dataset.iloc[:,1].values\n",
    "print(X)\n",
    "print(y)"
   ]
  },
  {
   "cell_type": "code",
   "execution_count": 4,
   "id": "910e5964",
   "metadata": {},
   "outputs": [
    {
     "data": {
      "text/plain": [
       "LinearRegression()"
      ]
     },
     "execution_count": 4,
     "metadata": {},
     "output_type": "execute_result"
    }
   ],
   "source": [
    "#from sklearn subpackage import linear regression model\n",
    "from sklearn.linear_model import LinearRegression\n",
    "regressor=LinearRegression()\n",
    "regressor.fit(X,y)"
   ]
  },
  {
   "cell_type": "code",
   "execution_count": 5,
   "id": "84a4a0ec",
   "metadata": {},
   "outputs": [
    {
     "data": {
      "text/plain": [
       "array([0.67461045])"
      ]
     },
     "execution_count": 5,
     "metadata": {},
     "output_type": "execute_result"
    }
   ],
   "source": [
    "#To get the slop\n",
    "regressor.coef_"
   ]
  },
  {
   "cell_type": "code",
   "execution_count": 6,
   "id": "59b79c76",
   "metadata": {},
   "outputs": [
    {
     "data": {
      "text/plain": [
       "-38.45508707607698"
      ]
     },
     "execution_count": 6,
     "metadata": {},
     "output_type": "execute_result"
    }
   ],
   "source": [
    "#To get the y intercept\n",
    "regressor.intercept_"
   ]
  },
  {
   "cell_type": "code",
   "execution_count": 7,
   "id": "633ed846",
   "metadata": {},
   "outputs": [
    {
     "name": "stdout",
     "output_type": "stream",
     "text": [
      "y= [0.67461045]X + -38.45508707607698\n"
     ]
    }
   ],
   "source": [
    "#To print the equation of line\n",
    "print(\"y= \"+ str(regressor.coef_) + \"X + \" + str(regressor.intercept_))"
   ]
  },
  {
   "cell_type": "code",
   "execution_count": 8,
   "id": "71dcbbc3",
   "metadata": {},
   "outputs": [
    {
     "name": "stdout",
     "output_type": "stream",
     "text": [
      "Accuracy: 95.47822477500306\n"
     ]
    }
   ],
   "source": [
    "#To get the slop\n",
    "print(\"Accuracy:\",regressor.score(X,y)*100)"
   ]
  },
  {
   "cell_type": "code",
   "execution_count": 9,
   "id": "a8daa3ff",
   "metadata": {},
   "outputs": [
    {
     "data": {
      "image/png": "[encoded data removed]",
      "text/plain": [
       "<Figure size 432x288 with 1 Axes>"
      ]
     },
     "metadata": {
      "needs_background": "light"
     },
     "output_type": "display_data"
    },
    {
     "name": "stdout",
     "output_type": "stream",
     "text": [
      "Enter Height:23\n"
     ]
    },
    {
     "data": {
      "text/plain": [
       "Text(0, 0.5, 'Enter Weight:(Predicted_y)')"
      ]
     },
     "execution_count": 9,
     "metadata": {},
     "output_type": "execute_result"
    },
    {
     "data": {
      "image/png": "[encoded data removed]",
      "text/plain": [
       "<Figure size 432x288 with 1 Axes>"
      ]
     },
     "metadata": {
      "needs_background": "light"
     },
     "output_type": "display_data"
    }
   ],
   "source": [
    "#To plot graph\n",
    "plt.plot(X,y,'o')\n",
    "plt.plot(X,regressor.predict(X));\n",
    "plt.show()\n",
    "predict_x=int(input('Enter Height:'))\n",
    "predict_y=(0.67461045*predict_x)-38.45508707607698\n",
    "plt.scatter(X,y)\n",
    "plt.scatter(predict_x,predict_y) \n",
    "plt.xlabel('Enter Height:(Predicted_x)') \n",
    "plt.ylabel('Enter Weight:(Predicted_y)') "
   ]
  },
  {
   "cell_type": "code",
   "execution_count": 10,
   "id": "673c82d1",
   "metadata": {},
   "outputs": [
    {
     "data": {
      "image/png": "[encoded data removed]",
      "text/plain": [
       "<Figure size 432x288 with 1 Axes>"
      ]
     },
     "metadata": {
      "needs_background": "light"
     },
     "output_type": "display_data"
    }
   ],
   "source": [
    "#plotting the Predicted regression line \n",
    "plt.plot(X,regressor.predict(X),color='green');\n",
    "plt.show()"
   ]
  },
  {
   "cell_type": "code",
   "execution_count": null,
   "id": "0ae493df",
   "metadata": {},
   "outputs": [],
   "source": []
  }
 ],
 "metadata": {
  "kernelspec": {
   "display_name": "Python 3 (ipykernel)",
   "language": "python",
   "name": "python3"
  },
  "language_info": {
   "codemirror_mode": {
    "name": "ipython",
    "version": 3
   },
   "file_extension": ".py",
   "mimetype": "text/x-python",
   "name": "python",
   "nbconvert_exporter": "python",
   "pygments_lexer": "ipython3",
   "version": "3.9.12"
  }
 },
 "nbformat": 4,
 "nbformat_minor": 5
}
