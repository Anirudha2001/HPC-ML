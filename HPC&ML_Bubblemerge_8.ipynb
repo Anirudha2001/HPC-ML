{
 "cells": [
  {
   "cell_type": "markdown",
   "id": "1e9d5ea1",
   "metadata": {},
   "source": [
    "# Bubble sort"
   ]
  },
  {
   "cell_type": "code",
   "execution_count": 3,
   "id": "6747c946",
   "metadata": {},
   "outputs": [
    {
     "name": "stdout",
     "output_type": "stream",
     "text": [
      "Serial: 0:00:13.917579\n",
      "Parallel: 0:00:09.270887\n"
     ]
    }
   ],
   "source": [
    "import random\n",
    "import time\n",
    "from datetime import datetime\n",
    "\n",
    "def bubble_sort(arr):\n",
    "    n = len(arr)\n",
    "    for i in range(n):\n",
    "        for j in range(n-1):\n",
    "            if arr[j] > arr[j+1]:\n",
    "                arr[j], arr[j+1] = arr[j+1], arr[j]\n",
    "\n",
    "def main():\n",
    "    a = [random.randint(0, 10000) for _ in range(10000)]\n",
    "    start = datetime.now()\n",
    "    bubble_sort(a)\n",
    "    end = datetime.now()\n",
    "    duration = end - start\n",
    "    print(\"Serial:\", duration)\n",
    "    a = [random.randint(0, 10000) for _ in range(10000)]\n",
    "\n",
    "    start = datetime.now()\n",
    "    for i in range(len(a)):\n",
    "        first = i % 2\n",
    "        for j in range(first, len(a)-1, 2):\n",
    "            if a[j] > a[j+1]:\n",
    "                a[j], a[j+1] = a[j+1], a[j]\n",
    "    end = datetime.now()\n",
    "    duration = end - start\n",
    "    print(\"Parallel:\", duration)\n",
    "\n",
    "if __name__ == \"__main__\":\n",
    "    main()\n"
   ]
  },
  {
   "cell_type": "markdown",
   "id": "f3921fdf",
   "metadata": {},
   "source": [
    "# Merge sort"
   ]
  },
  {
   "cell_type": "code",
   "execution_count": 13,
   "id": "d1e07ef7",
   "metadata": {},
   "outputs": [
    {
     "name": "stdout",
     "output_type": "stream",
     "text": [
      "Sorted array is:\n",
      "1\n",
      "2\n",
      "3\n",
      "4\n",
      "5\n",
      "15\n",
      "19\n",
      "26\n",
      "27\n",
      "36\n",
      "38\n",
      "44\n",
      "46\n",
      "47\n",
      "48\n",
      "50\n",
      "Execution time: 0.04455161094665527 seconds\n"
     ]
    }
   ],
   "source": [
    "import concurrent.futures\n",
    "import time\n",
    "def merge(a, i1, j1, i2, j2):\n",
    "    temp = []\n",
    "    i, j = i1, i2\n",
    "    while i <= j1 and j <= j2:\n",
    "        temp.append(a[i] if a[i] < a[j] else a[j])\n",
    "        i, j = (i + 1, j) if a[i] < a[j] else (i, j + 1)\n",
    "    temp.extend(a[i: j1 + 1])\n",
    "    temp.extend(a[j: j2 + 1])\n",
    "    a[i1: j2 + 1] = temp\n",
    "def mergesort(a, i, j):\n",
    "    if i < j:\n",
    "        mid = (i + j) // 2\n",
    "        with concurrent.futures.ThreadPoolExecutor() as executor:\n",
    "            future1 = executor.submit(mergesort, a, i, mid)\n",
    "            future2 = executor.submit(mergesort, a, mid + 1, j)\n",
    "            future1.result()\n",
    "            future2.result()\n",
    "        merge(a, i, mid, mid + 1, j)\n",
    "if __name__ == \"__main__\":\n",
    "    a = [3,44,38,5,47,15,36,26,27,2,46,4,19,1,50,48]\n",
    "    start_p=time.time()\n",
    "    mergesort(a, 0, len(a) - 1)\n",
    "    end_p=time.time()\n",
    "    print(\"Sorted array is:\")\n",
    "    for element in a:\n",
    "        print(element)\n",
    "    print(\"Execution time:\", end_p-start_p, \"seconds\")"
   ]
  },
  {
   "cell_type": "code",
   "execution_count": 19,
   "id": "9bef1913",
   "metadata": {},
   "outputs": [
    {
     "name": "stdout",
     "output_type": "stream",
     "text": [
      "Original List: [4, 5, 8, 3, 0, 5, 3, 9, 4, 3]\n",
      "Sorted list: [0, 3, 3, 3, 4, 4, 5, 5, 8, 9]\n"
     ]
    }
   ],
   "source": []
  },
  {
   "cell_type": "code",
   "execution_count": null,
   "id": "9cdb4821",
   "metadata": {},
   "outputs": [],
   "source": []
  }
 ],
 "metadata": {
  "kernelspec": {
   "display_name": "Python 3 (ipykernel)",
   "language": "python",
   "name": "python3"
  },
  "language_info": {
   "codemirror_mode": {
    "name": "ipython",
    "version": 3
   },
   "file_extension": ".py",
   "mimetype": "text/x-python",
   "name": "python",
   "nbconvert_exporter": "python",
   "pygments_lexer": "ipython3",
   "version": "3.9.12"
  }
 },
 "nbformat": 4,
 "nbformat_minor": 5
}
